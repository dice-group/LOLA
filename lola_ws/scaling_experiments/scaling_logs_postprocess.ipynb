{
 "cells": [
  {
   "cell_type": "code",
   "execution_count": 1,
   "id": "e16dbb4a-2d99-42fd-9486-74d7498358b0",
   "metadata": {
    "tags": []
   },
   "outputs": [],
   "source": [
    "# this notebook has logic to preprocess the logs created from our scaling experiments"
   ]
  },
  {
   "cell_type": "code",
   "execution_count": 33,
   "id": "49c08cdc-89d3-42b1-a4bd-ffcae3c3e3c2",
   "metadata": {
    "tags": []
   },
   "outputs": [],
   "source": [
    "# imports\n",
    "import json\n",
    "import re\n",
    "import csv"
   ]
  },
  {
   "cell_type": "code",
   "execution_count": 39,
   "id": "2f4e2192-ccd7-4ee2-981f-b66c066afea4",
   "metadata": {
    "tags": []
   },
   "outputs": [],
   "source": [
    "info_pattern = r\"^.*iteration.*elapsed time per iteration \\(ms\\): (.+) \\| learning rate:.* samples per second: (.+) \\| TFLOPs: (.+) \\|$\""
   ]
  },
  {
   "cell_type": "code",
   "execution_count": 40,
   "id": "291040e7-f5c6-4340-8689-f213e7c78506",
   "metadata": {
    "tags": []
   },
   "outputs": [],
   "source": [
    "# Retrieve the experiment -> job id map\n",
    "with open('scaling_logs/scaling_exp_det.json','r') as map_file:\n",
    "    exp_job_map = json.load(map_file)"
   ]
  },
  {
   "cell_type": "code",
   "execution_count": 41,
   "id": "38ffff4c-e4a9-4714-bedf-e3f68b6fde51",
   "metadata": {
    "tags": []
   },
   "outputs": [],
   "source": [
    "def get_stats_obj(exp_name, oom, match):\n",
    "    # sample exp_name GPT_0.35B_MoE128_1BATCH_1GPU_1Node\n",
    "    exp_det = exp_name.split('_')\n",
    "    stats_obj = {\n",
    "     'model_param': exp_det[1][:-1],\n",
    "     'model_experts': exp_det[2][3:],\n",
    "     'batch_size': exp_det[3][:-5],\n",
    "     'tot_gpus': exp_det[4][:-3],\n",
    "     'tot_nodes': exp_det[5][:-4]\n",
    "    }\n",
    "    if oom:\n",
    "        stats_obj['oom'] = 'true'\n",
    "    elif match:\n",
    "        stats_obj['elapsed time per iteration (ms)'] = match.group(1)\n",
    "        stats_obj['samples per second'] = match.group(2)\n",
    "        stats_obj['TFLOPs'] = match.group(3)\n",
    "    return stats_obj"
   ]
  },
  {
   "cell_type": "code",
   "execution_count": 42,
   "id": "64cad912-3f7e-4c86-b1fc-6fe10900d504",
   "metadata": {
    "tags": []
   },
   "outputs": [],
   "source": [
    "log_file_tmpl = \"scaling_logs/slurm-%s.out\"\n",
    "\n",
    "scaling_stats = []\n",
    "# For each logfile\n",
    "for exp_name  in exp_job_map:\n",
    "    job_id = exp_job_map[exp_name]\n",
    "    log_file_path = log_file_tmpl % job_id\n",
    "    with open(log_file_path, \"r\") as log_file:\n",
    "        log_file_lines = log_file.readlines()\n",
    "    # Check for out-of-memory exception\n",
    "    oom = False\n",
    "    stats_line_match = None\n",
    "    for line in log_file_lines:\n",
    "        if 'CUDA out of memory' in line:\n",
    "            oom = True\n",
    "            break\n",
    "        elif match := re.search(info_pattern, line):\n",
    "            stats_line_match = match\n",
    "    scaling_stats.append(get_stats_obj(exp_name, oom, stats_line_match))"
   ]
  },
  {
   "cell_type": "code",
   "execution_count": 43,
   "id": "f0e7ecd9-0606-48d1-85f7-778e35e49f3a",
   "metadata": {
    "tags": []
   },
   "outputs": [
    {
     "name": "stdout",
     "output_type": "stream",
     "text": [
      "[{'model_param': '0.35', 'model_experts': '128', 'batch_size': '1', 'tot_gpus': '1', 'tot_nodes': '1', 'elapsed time per iteration (ms)': '157.0', 'samples per second': '6.369', 'TFLOPs': '15.83'}, {'model_param': '0.35', 'model_experts': '128', 'batch_size': '2', 'tot_gpus': '1', 'tot_nodes': '1', 'elapsed time per iteration (ms)': '194.3', 'samples per second': '10.292', 'TFLOPs': '25.57'}, {'model_param': '0.35', 'model_experts': '128', 'batch_size': '4', 'tot_gpus': '1', 'tot_nodes': '1', 'elapsed time per iteration (ms)': '373.9', 'samples per second': '10.698', 'TFLOPs': '26.58'}, {'model_param': '0.35', 'model_experts': '128', 'batch_size': '8', 'tot_gpus': '1', 'tot_nodes': '1', 'elapsed time per iteration (ms)': '416.9', 'samples per second': '19.190', 'TFLOPs': '47.68'}, {'model_param': '0.35', 'model_experts': '128', 'batch_size': '16', 'tot_gpus': '1', 'tot_nodes': '1', 'elapsed time per iteration (ms)': '923.6', 'samples per second': '17.324', 'TFLOPs': '43.05'}, {'model_param': '0.35', 'model_experts': '128', 'batch_size': '32', 'tot_gpus': '1', 'tot_nodes': '1', 'elapsed time per iteration (ms)': '1571.7', 'samples per second': '20.361', 'TFLOPs': '50.59'}, {'model_param': '0.35', 'model_experts': '128', 'batch_size': '1', 'tot_gpus': '4', 'tot_nodes': '1', 'elapsed time per iteration (ms)': '2949.6', 'samples per second': '1.356', 'TFLOPs': '0.84'}, {'model_param': '0.35', 'model_experts': '128', 'batch_size': '2', 'tot_gpus': '4', 'tot_nodes': '1', 'elapsed time per iteration (ms)': '3075.1', 'samples per second': '2.602', 'TFLOPs': '1.62'}, {'model_param': '0.35', 'model_experts': '128', 'batch_size': '4', 'tot_gpus': '4', 'tot_nodes': '1', 'elapsed time per iteration (ms)': '3392.9', 'samples per second': '4.716', 'TFLOPs': '2.93'}, {'model_param': '0.35', 'model_experts': '128', 'batch_size': '8', 'tot_gpus': '4', 'tot_nodes': '1', 'elapsed time per iteration (ms)': '4195.9', 'samples per second': '7.627', 'TFLOPs': '4.74'}, {'model_param': '0.35', 'model_experts': '128', 'batch_size': '16', 'tot_gpus': '4', 'tot_nodes': '1', 'elapsed time per iteration (ms)': '5270.3', 'samples per second': '12.143', 'TFLOPs': '7.54'}, {'model_param': '0.35', 'model_experts': '128', 'batch_size': '32', 'tot_gpus': '4', 'tot_nodes': '1', 'elapsed time per iteration (ms)': '8150.4', 'samples per second': '15.705', 'TFLOPs': '9.76'}, {'model_param': '0.35', 'model_experts': '128', 'batch_size': '1', 'tot_gpus': '8', 'tot_nodes': '2', 'elapsed time per iteration (ms)': '6614.4', 'samples per second': '1.209', 'TFLOPs': '0.38'}, {'model_param': '0.35', 'model_experts': '128', 'batch_size': '2', 'tot_gpus': '8', 'tot_nodes': '2', 'elapsed time per iteration (ms)': '6829.9', 'samples per second': '2.343', 'TFLOPs': '0.73'}, {'model_param': '0.35', 'model_experts': '128', 'batch_size': '4', 'tot_gpus': '8', 'tot_nodes': '2', 'elapsed time per iteration (ms)': '7177.9', 'samples per second': '4.458', 'TFLOPs': '1.38'}, {'model_param': '0.35', 'model_experts': '128', 'batch_size': '8', 'tot_gpus': '8', 'tot_nodes': '2', 'elapsed time per iteration (ms)': '7808.1', 'samples per second': '8.197', 'TFLOPs': '2.55'}, {'model_param': '0.35', 'model_experts': '128', 'batch_size': '16', 'tot_gpus': '8', 'tot_nodes': '2', 'elapsed time per iteration (ms)': '9245.0', 'samples per second': '13.845', 'TFLOPs': '4.30'}, {'model_param': '0.35', 'model_experts': '128', 'batch_size': '32', 'tot_gpus': '8', 'tot_nodes': '2', 'elapsed time per iteration (ms)': '11796.4', 'samples per second': '21.701', 'TFLOPs': '6.74'}, {'model_param': '0.35', 'model_experts': '128', 'batch_size': '1', 'tot_gpus': '16', 'tot_nodes': '4', 'elapsed time per iteration (ms)': '11333.4', 'samples per second': '1.412', 'TFLOPs': '0.22'}, {'model_param': '0.35', 'model_experts': '128', 'batch_size': '2', 'tot_gpus': '16', 'tot_nodes': '4', 'elapsed time per iteration (ms)': '11551.2', 'samples per second': '2.770', 'TFLOPs': '0.43'}, {'model_param': '0.35', 'model_experts': '128', 'batch_size': '4', 'tot_gpus': '16', 'tot_nodes': '4', 'elapsed time per iteration (ms)': '11753.4', 'samples per second': '5.445', 'TFLOPs': '0.85'}, {'model_param': '0.35', 'model_experts': '128', 'batch_size': '8', 'tot_gpus': '16', 'tot_nodes': '4', 'elapsed time per iteration (ms)': '12263.2', 'samples per second': '10.438', 'TFLOPs': '1.62'}, {'model_param': '0.35', 'model_experts': '128', 'batch_size': '16', 'tot_gpus': '16', 'tot_nodes': '4', 'elapsed time per iteration (ms)': '13573.7', 'samples per second': '18.860', 'TFLOPs': '2.93'}, {'model_param': '0.35', 'model_experts': '128', 'batch_size': '32', 'tot_gpus': '16', 'tot_nodes': '4', 'elapsed time per iteration (ms)': '16179.2', 'samples per second': '31.646', 'TFLOPs': '4.91'}, {'model_param': '0.76', 'model_experts': '128', 'batch_size': '1', 'tot_gpus': '1', 'tot_nodes': '1', 'elapsed time per iteration (ms)': '366.1', 'samples per second': '2.731', 'TFLOPs': '39.75'}, {'model_param': '0.76', 'model_experts': '128', 'batch_size': '2', 'tot_gpus': '1', 'tot_nodes': '1', 'elapsed time per iteration (ms)': '570.6', 'samples per second': '3.505', 'TFLOPs': '51.02'}, {'model_param': '0.76', 'model_experts': '128', 'batch_size': '4', 'tot_gpus': '1', 'tot_nodes': '1', 'elapsed time per iteration (ms)': '929.4', 'samples per second': '4.304', 'TFLOPs': '62.65'}, {'model_param': '0.76', 'model_experts': '128', 'batch_size': '8', 'tot_gpus': '1', 'tot_nodes': '1', 'elapsed time per iteration (ms)': '1338.9', 'samples per second': '5.975', 'TFLOPs': '86.97'}, {'model_param': '0.76', 'model_experts': '128', 'batch_size': '16', 'tot_gpus': '1', 'tot_nodes': '1', 'elapsed time per iteration (ms)': '8457.2', 'samples per second': '1.892', 'TFLOPs': '27.54'}, {'model_param': '0.76', 'model_experts': '128', 'batch_size': '32', 'tot_gpus': '1', 'tot_nodes': '1', 'oom': 'true'}, {'model_param': '0.76', 'model_experts': '128', 'batch_size': '1', 'tot_gpus': '4', 'tot_nodes': '1', 'elapsed time per iteration (ms)': '2944.0', 'samples per second': '1.359', 'TFLOPs': '4.94'}, {'model_param': '0.76', 'model_experts': '128', 'batch_size': '2', 'tot_gpus': '4', 'tot_nodes': '1', 'elapsed time per iteration (ms)': '3468.4', 'samples per second': '2.307', 'TFLOPs': '8.39'}, {'model_param': '0.76', 'model_experts': '128', 'batch_size': '4', 'tot_gpus': '4', 'tot_nodes': '1', 'elapsed time per iteration (ms)': '4531.9', 'samples per second': '3.531', 'TFLOPs': '12.85'}, {'model_param': '0.76', 'model_experts': '128', 'batch_size': '8', 'tot_gpus': '4', 'tot_nodes': '1', 'elapsed time per iteration (ms)': '6666.1', 'samples per second': '4.800', 'TFLOPs': '17.47'}, {'model_param': '0.76', 'model_experts': '128', 'batch_size': '16', 'tot_gpus': '4', 'tot_nodes': '1', 'elapsed time per iteration (ms)': '10459.1', 'samples per second': '6.119', 'TFLOPs': '22.27'}, {'model_param': '0.76', 'model_experts': '128', 'batch_size': '32', 'tot_gpus': '4', 'tot_nodes': '1', 'oom': 'true'}, {'model_param': '0.76', 'model_experts': '128', 'batch_size': '1', 'tot_gpus': '8', 'tot_nodes': '2', 'elapsed time per iteration (ms)': '9082.9', 'samples per second': '0.881', 'TFLOPs': '1.60'}, {'model_param': '0.76', 'model_experts': '128', 'batch_size': '2', 'tot_gpus': '8', 'tot_nodes': '2', 'elapsed time per iteration (ms)': '9551.5', 'samples per second': '1.675', 'TFLOPs': '3.05'}, {'model_param': '0.76', 'model_experts': '128', 'batch_size': '4', 'tot_gpus': '8', 'tot_nodes': '2', 'elapsed time per iteration (ms)': '10539.6', 'samples per second': '3.036', 'TFLOPs': '5.52'}, {'model_param': '0.76', 'model_experts': '128', 'batch_size': '8', 'tot_gpus': '8', 'tot_nodes': '2', 'elapsed time per iteration (ms)': '12776.3', 'samples per second': '5.009', 'TFLOPs': '9.11'}, {'model_param': '0.76', 'model_experts': '128', 'batch_size': '16', 'tot_gpus': '8', 'tot_nodes': '2', 'elapsed time per iteration (ms)': '17046.4', 'samples per second': '7.509', 'TFLOPs': '13.66'}, {'model_param': '0.76', 'model_experts': '128', 'batch_size': '32', 'tot_gpus': '8', 'tot_nodes': '2', 'oom': 'true'}, {'model_param': '0.76', 'model_experts': '128', 'batch_size': '1', 'tot_gpus': '16', 'tot_nodes': '4', 'elapsed time per iteration (ms)': '17627.2', 'samples per second': '0.908', 'TFLOPs': '0.83'}, {'model_param': '0.76', 'model_experts': '128', 'batch_size': '2', 'tot_gpus': '16', 'tot_nodes': '4', 'elapsed time per iteration (ms)': '18298.0', 'samples per second': '1.749', 'TFLOPs': '1.59'}, {'model_param': '0.76', 'model_experts': '128', 'batch_size': '4', 'tot_gpus': '16', 'tot_nodes': '4', 'elapsed time per iteration (ms)': '19509.5', 'samples per second': '3.280', 'TFLOPs': '2.98'}, {'model_param': '0.76', 'model_experts': '128', 'batch_size': '8', 'tot_gpus': '16', 'tot_nodes': '4', 'elapsed time per iteration (ms)': '21365.6', 'samples per second': '5.991', 'TFLOPs': '5.45'}, {'model_param': '0.76', 'model_experts': '128', 'batch_size': '16', 'tot_gpus': '16', 'tot_nodes': '4', 'elapsed time per iteration (ms)': '25384.3', 'samples per second': '10.085', 'TFLOPs': '9.17'}, {'model_param': '0.76', 'model_experts': '128', 'batch_size': '32', 'tot_gpus': '16', 'tot_nodes': '4', 'oom': 'true'}, {'model_param': '1.3', 'model_experts': '128', 'batch_size': '1', 'tot_gpus': '1', 'tot_nodes': '1', 'elapsed time per iteration (ms)': '448.6', 'samples per second': '2.229', 'TFLOPs': '54.29'}, {'model_param': '1.3', 'model_experts': '128', 'batch_size': '2', 'tot_gpus': '1', 'tot_nodes': '1', 'elapsed time per iteration (ms)': '679.5', 'samples per second': '2.943', 'TFLOPs': '71.68'}, {'model_param': '1.3', 'model_experts': '128', 'batch_size': '4', 'tot_gpus': '1', 'tot_nodes': '1', 'elapsed time per iteration (ms)': '1085.8', 'samples per second': '3.684', 'TFLOPs': '89.72'}, {'model_param': '1.3', 'model_experts': '128', 'batch_size': '8', 'tot_gpus': '1', 'tot_nodes': '1', 'elapsed time per iteration (ms)': '1754.7', 'samples per second': '4.559', 'TFLOPs': '111.04'}, {'model_param': '1.3', 'model_experts': '128', 'batch_size': '16', 'tot_gpus': '1', 'tot_nodes': '1', 'oom': 'true'}, {'model_param': '1.3', 'model_experts': '128', 'batch_size': '32', 'tot_gpus': '1', 'tot_nodes': '1', 'oom': 'true'}, {'model_param': '1.3', 'model_experts': '128', 'batch_size': '1', 'tot_gpus': '4', 'tot_nodes': '1', 'elapsed time per iteration (ms)': '3011.5', 'samples per second': '1.328', 'TFLOPs': '8.09'}, {'model_param': '1.3', 'model_experts': '128', 'batch_size': '2', 'tot_gpus': '4', 'tot_nodes': '1', 'elapsed time per iteration (ms)': '3652.9', 'samples per second': '2.190', 'TFLOPs': '13.33'}, {'model_param': '1.3', 'model_experts': '128', 'batch_size': '4', 'tot_gpus': '4', 'tot_nodes': '1', 'elapsed time per iteration (ms)': '5168.9', 'samples per second': '3.095', 'TFLOPs': '18.85'}, {'model_param': '1.3', 'model_experts': '128', 'batch_size': '8', 'tot_gpus': '4', 'tot_nodes': '1', 'elapsed time per iteration (ms)': '7861.4', 'samples per second': '4.071', 'TFLOPs': '24.79'}, {'model_param': '1.3', 'model_experts': '128', 'batch_size': '16', 'tot_gpus': '4', 'tot_nodes': '1', 'elapsed time per iteration (ms)': '12824.8', 'samples per second': '4.990', 'TFLOPs': '30.39'}, {'model_param': '1.3', 'model_experts': '128', 'batch_size': '32', 'tot_gpus': '4', 'tot_nodes': '1', 'oom': 'true'}, {'model_param': '1.3', 'model_experts': '128', 'batch_size': '1', 'tot_gpus': '8', 'tot_nodes': '2', 'elapsed time per iteration (ms)': '9306.7', 'samples per second': '0.860', 'TFLOPs': '2.62'}, {'model_param': '1.3', 'model_experts': '128', 'batch_size': '2', 'tot_gpus': '8', 'tot_nodes': '2', 'elapsed time per iteration (ms)': '9980.9', 'samples per second': '1.603', 'TFLOPs': '4.88'}, {'model_param': '1.3', 'model_experts': '128', 'batch_size': '4', 'tot_gpus': '8', 'tot_nodes': '2', 'elapsed time per iteration (ms)': '11526.1', 'samples per second': '2.776', 'TFLOPs': '8.45'}, {'model_param': '1.3', 'model_experts': '128', 'batch_size': '8', 'tot_gpus': '8', 'tot_nodes': '2', 'elapsed time per iteration (ms)': '14072.3', 'samples per second': '4.548', 'TFLOPs': '13.85'}, {'model_param': '1.3', 'model_experts': '128', 'batch_size': '16', 'tot_gpus': '8', 'tot_nodes': '2', 'elapsed time per iteration (ms)': '19472.3', 'samples per second': '6.573', 'TFLOPs': '20.01'}, {'model_param': '1.3', 'model_experts': '128', 'batch_size': '32', 'tot_gpus': '8', 'tot_nodes': '2', 'oom': 'true'}, {'model_param': '1.3', 'model_experts': '128', 'batch_size': '1', 'tot_gpus': '16', 'tot_nodes': '4', 'elapsed time per iteration (ms)': '17848.7', 'samples per second': '0.896', 'TFLOPs': '1.36'}, {'model_param': '1.3', 'model_experts': '128', 'batch_size': '2', 'tot_gpus': '16', 'tot_nodes': '4', 'elapsed time per iteration (ms)': '18706.2', 'samples per second': '1.711', 'TFLOPs': '2.60'}, {'model_param': '1.3', 'model_experts': '128', 'batch_size': '4', 'tot_gpus': '16', 'tot_nodes': '4', 'elapsed time per iteration (ms)': '20000.6', 'samples per second': '3.200', 'TFLOPs': '4.87'}, {'model_param': '1.3', 'model_experts': '128', 'batch_size': '8', 'tot_gpus': '16', 'tot_nodes': '4', 'elapsed time per iteration (ms)': '22968.3', 'samples per second': '5.573', 'TFLOPs': '8.48'}, {'model_param': '1.3', 'model_experts': '128', 'batch_size': '16', 'tot_gpus': '16', 'tot_nodes': '4', 'elapsed time per iteration (ms)': '27919.2', 'samples per second': '9.169', 'TFLOPs': '13.96'}, {'model_param': '1.3', 'model_experts': '128', 'batch_size': '32', 'tot_gpus': '16', 'tot_nodes': '4', 'oom': 'true'}, {'model_param': '2.7', 'model_experts': '128', 'batch_size': '1', 'tot_gpus': '1', 'tot_nodes': '1', 'oom': 'true'}, {'model_param': '2.7', 'model_experts': '128', 'batch_size': '2', 'tot_gpus': '1', 'tot_nodes': '1', 'oom': 'true'}, {'model_param': '2.7', 'model_experts': '128', 'batch_size': '4', 'tot_gpus': '1', 'tot_nodes': '1', 'oom': 'true'}, {'model_param': '2.7', 'model_experts': '128', 'batch_size': '8', 'tot_gpus': '1', 'tot_nodes': '1', 'oom': 'true'}, {'model_param': '2.7', 'model_experts': '128', 'batch_size': '16', 'tot_gpus': '1', 'tot_nodes': '1', 'oom': 'true'}, {'model_param': '2.7', 'model_experts': '128', 'batch_size': '32', 'tot_gpus': '1', 'tot_nodes': '1', 'oom': 'true'}, {'model_param': '2.7', 'model_experts': '128', 'batch_size': '1', 'tot_gpus': '4', 'tot_nodes': '1', 'elapsed time per iteration (ms)': '4295.5', 'samples per second': '0.931', 'TFLOPs': '11.25'}, {'model_param': '2.7', 'model_experts': '128', 'batch_size': '2', 'tot_gpus': '4', 'tot_nodes': '1', 'elapsed time per iteration (ms)': '5692.3', 'samples per second': '1.405', 'TFLOPs': '16.97'}, {'model_param': '2.7', 'model_experts': '128', 'batch_size': '4', 'tot_gpus': '4', 'tot_nodes': '1', 'elapsed time per iteration (ms)': '8983.2', 'samples per second': '1.781', 'TFLOPs': '21.51'}, {'model_param': '2.7', 'model_experts': '128', 'batch_size': '8', 'tot_gpus': '4', 'tot_nodes': '1', 'elapsed time per iteration (ms)': '14075.1', 'samples per second': '2.274', 'TFLOPs': '27.46'}, {'model_param': '2.7', 'model_experts': '128', 'batch_size': '16', 'tot_gpus': '4', 'tot_nodes': '1', 'oom': 'true'}, {'model_param': '2.7', 'model_experts': '128', 'batch_size': '32', 'tot_gpus': '4', 'tot_nodes': '1', 'oom': 'true'}, {'model_param': '2.7', 'model_experts': '128', 'batch_size': '1', 'tot_gpus': '8', 'tot_nodes': '2', 'elapsed time per iteration (ms)': '12921.7', 'samples per second': '0.619', 'TFLOPs': '3.74'}, {'model_param': '2.7', 'model_experts': '128', 'batch_size': '2', 'tot_gpus': '8', 'tot_nodes': '2', 'elapsed time per iteration (ms)': '14348.3', 'samples per second': '1.115', 'TFLOPs': '6.73'}, {'model_param': '2.7', 'model_experts': '128', 'batch_size': '4', 'tot_gpus': '8', 'tot_nodes': '2', 'elapsed time per iteration (ms)': '17484.9', 'samples per second': '1.830', 'TFLOPs': '11.05'}, {'model_param': '2.7', 'model_experts': '128', 'batch_size': '8', 'tot_gpus': '8', 'tot_nodes': '2', 'elapsed time per iteration (ms)': '22419.8', 'samples per second': '2.855', 'TFLOPs': '17.24'}, {'model_param': '2.7', 'model_experts': '128', 'batch_size': '16', 'tot_gpus': '8', 'tot_nodes': '2', 'oom': 'true'}, {'model_param': '2.7', 'model_experts': '128', 'batch_size': '32', 'tot_gpus': '8', 'tot_nodes': '2'}, {'model_param': '2.7', 'model_experts': '128', 'batch_size': '1', 'tot_gpus': '16', 'tot_nodes': '4', 'elapsed time per iteration (ms)': '21962.3', 'samples per second': '0.729', 'TFLOPs': '2.20'}, {'model_param': '2.7', 'model_experts': '128', 'batch_size': '2', 'tot_gpus': '16', 'tot_nodes': '4', 'elapsed time per iteration (ms)': '23055.5', 'samples per second': '1.388', 'TFLOPs': '4.19'}, {'model_param': '2.7', 'model_experts': '128', 'batch_size': '4', 'tot_gpus': '16', 'tot_nodes': '4', 'elapsed time per iteration (ms)': '26460.2', 'samples per second': '2.419', 'TFLOPs': '7.30'}, {'model_param': '2.7', 'model_experts': '128', 'batch_size': '8', 'tot_gpus': '16', 'tot_nodes': '4', 'elapsed time per iteration (ms)': '31725.9', 'samples per second': '4.035', 'TFLOPs': '12.18'}, {'model_param': '2.7', 'model_experts': '128', 'batch_size': '16', 'tot_gpus': '16', 'tot_nodes': '4', 'oom': 'true'}, {'model_param': '2.7', 'model_experts': '128', 'batch_size': '32', 'tot_gpus': '16', 'tot_nodes': '4'}, {'model_param': '6.7', 'model_experts': '128', 'batch_size': '1', 'tot_gpus': '1', 'tot_nodes': '1', 'oom': 'true'}, {'model_param': '6.7', 'model_experts': '128', 'batch_size': '2', 'tot_gpus': '1', 'tot_nodes': '1', 'oom': 'true'}, {'model_param': '6.7', 'model_experts': '128', 'batch_size': '4', 'tot_gpus': '1', 'tot_nodes': '1', 'oom': 'true'}, {'model_param': '6.7', 'model_experts': '128', 'batch_size': '8', 'tot_gpus': '1', 'tot_nodes': '1', 'oom': 'true'}, {'model_param': '6.7', 'model_experts': '128', 'batch_size': '16', 'tot_gpus': '1', 'tot_nodes': '1', 'oom': 'true'}, {'model_param': '6.7', 'model_experts': '128', 'batch_size': '32', 'tot_gpus': '1', 'tot_nodes': '1', 'oom': 'true'}, {'model_param': '6.7', 'model_experts': '128', 'batch_size': '1', 'tot_gpus': '4', 'tot_nodes': '1'}, {'model_param': '6.7', 'model_experts': '128', 'batch_size': '2', 'tot_gpus': '4', 'tot_nodes': '1'}, {'model_param': '6.7', 'model_experts': '128', 'batch_size': '4', 'tot_gpus': '4', 'tot_nodes': '1'}, {'model_param': '6.7', 'model_experts': '128', 'batch_size': '8', 'tot_gpus': '4', 'tot_nodes': '1'}, {'model_param': '6.7', 'model_experts': '128', 'batch_size': '16', 'tot_gpus': '4', 'tot_nodes': '1'}, {'model_param': '6.7', 'model_experts': '128', 'batch_size': '32', 'tot_gpus': '4', 'tot_nodes': '1'}, {'model_param': '6.7', 'model_experts': '128', 'batch_size': '1', 'tot_gpus': '8', 'tot_nodes': '2', 'elapsed time per iteration (ms)': '24521.8', 'samples per second': '0.326', 'TFLOPs': '4.77'}, {'model_param': '6.7', 'model_experts': '128', 'batch_size': '2', 'tot_gpus': '8', 'tot_nodes': '2', 'elapsed time per iteration (ms)': '26628.6', 'samples per second': '0.601', 'TFLOPs': '8.78'}, {'model_param': '6.7', 'model_experts': '128', 'batch_size': '4', 'tot_gpus': '8', 'tot_nodes': '2', 'elapsed time per iteration (ms)': '31625.1', 'samples per second': '1.012', 'TFLOPs': '14.78'}, {'model_param': '6.7', 'model_experts': '128', 'batch_size': '8', 'tot_gpus': '8', 'tot_nodes': '2', 'oom': 'true'}, {'model_param': '6.7', 'model_experts': '128', 'batch_size': '16', 'tot_gpus': '8', 'tot_nodes': '2', 'oom': 'true'}, {'model_param': '6.7', 'model_experts': '128', 'batch_size': '32', 'tot_gpus': '8', 'tot_nodes': '2', 'oom': 'true'}, {'model_param': '6.7', 'model_experts': '128', 'batch_size': '1', 'tot_gpus': '16', 'tot_nodes': '4', 'elapsed time per iteration (ms)': '32144.2', 'samples per second': '0.498', 'TFLOPs': '3.64'}, {'model_param': '6.7', 'model_experts': '128', 'batch_size': '2', 'tot_gpus': '16', 'tot_nodes': '4', 'elapsed time per iteration (ms)': '34702.5', 'samples per second': '0.922', 'TFLOPs': '6.74'}, {'model_param': '6.7', 'model_experts': '128', 'batch_size': '4', 'tot_gpus': '16', 'tot_nodes': '4', 'elapsed time per iteration (ms)': '39614.1', 'samples per second': '1.616', 'TFLOPs': '11.80'}, {'model_param': '6.7', 'model_experts': '128', 'batch_size': '8', 'tot_gpus': '16', 'tot_nodes': '4', 'elapsed time per iteration (ms)': '47748.3', 'samples per second': '2.681', 'TFLOPs': '19.58'}, {'model_param': '6.7', 'model_experts': '128', 'batch_size': '16', 'tot_gpus': '16', 'tot_nodes': '4', 'oom': 'true'}, {'model_param': '6.7', 'model_experts': '128', 'batch_size': '32', 'tot_gpus': '16', 'tot_nodes': '4', 'oom': 'true'}, {'model_param': '13', 'model_experts': '128', 'batch_size': '1', 'tot_gpus': '1', 'tot_nodes': '1', 'oom': 'true'}, {'model_param': '13', 'model_experts': '128', 'batch_size': '2', 'tot_gpus': '1', 'tot_nodes': '1', 'oom': 'true'}, {'model_param': '13', 'model_experts': '128', 'batch_size': '4', 'tot_gpus': '1', 'tot_nodes': '1', 'oom': 'true'}, {'model_param': '13', 'model_experts': '128', 'batch_size': '8', 'tot_gpus': '1', 'tot_nodes': '1', 'oom': 'true'}, {'model_param': '13', 'model_experts': '128', 'batch_size': '16', 'tot_gpus': '1', 'tot_nodes': '1', 'oom': 'true'}, {'model_param': '13', 'model_experts': '128', 'batch_size': '32', 'tot_gpus': '1', 'tot_nodes': '1', 'oom': 'true'}, {'model_param': '13', 'model_experts': '128', 'batch_size': '1', 'tot_gpus': '4', 'tot_nodes': '1', 'oom': 'true'}, {'model_param': '13', 'model_experts': '128', 'batch_size': '2', 'tot_gpus': '4', 'tot_nodes': '1', 'oom': 'true'}, {'model_param': '13', 'model_experts': '128', 'batch_size': '4', 'tot_gpus': '4', 'tot_nodes': '1', 'oom': 'true'}, {'model_param': '13', 'model_experts': '128', 'batch_size': '8', 'tot_gpus': '4', 'tot_nodes': '1', 'oom': 'true'}, {'model_param': '13', 'model_experts': '128', 'batch_size': '16', 'tot_gpus': '4', 'tot_nodes': '1', 'oom': 'true'}, {'model_param': '13', 'model_experts': '128', 'batch_size': '32', 'tot_gpus': '4', 'tot_nodes': '1', 'oom': 'true'}, {'model_param': '13', 'model_experts': '128', 'batch_size': '1', 'tot_gpus': '8', 'tot_nodes': '2', 'oom': 'true'}, {'model_param': '13', 'model_experts': '128', 'batch_size': '2', 'tot_gpus': '8', 'tot_nodes': '2', 'oom': 'true'}, {'model_param': '13', 'model_experts': '128', 'batch_size': '4', 'tot_gpus': '8', 'tot_nodes': '2', 'oom': 'true'}, {'model_param': '13', 'model_experts': '128', 'batch_size': '8', 'tot_gpus': '8', 'tot_nodes': '2', 'oom': 'true'}, {'model_param': '13', 'model_experts': '128', 'batch_size': '16', 'tot_gpus': '8', 'tot_nodes': '2', 'oom': 'true'}, {'model_param': '13', 'model_experts': '128', 'batch_size': '32', 'tot_gpus': '8', 'tot_nodes': '2', 'oom': 'true'}, {'model_param': '13', 'model_experts': '128', 'batch_size': '1', 'tot_gpus': '16', 'tot_nodes': '4', 'oom': 'true'}, {'model_param': '13', 'model_experts': '128', 'batch_size': '2', 'tot_gpus': '16', 'tot_nodes': '4', 'oom': 'true'}, {'model_param': '13', 'model_experts': '128', 'batch_size': '4', 'tot_gpus': '16', 'tot_nodes': '4', 'oom': 'true'}, {'model_param': '13', 'model_experts': '128', 'batch_size': '8', 'tot_gpus': '16', 'tot_nodes': '4', 'oom': 'true'}, {'model_param': '13', 'model_experts': '128', 'batch_size': '16', 'tot_gpus': '16', 'tot_nodes': '4', 'oom': 'true'}, {'model_param': '13', 'model_experts': '128', 'batch_size': '32', 'tot_gpus': '16', 'tot_nodes': '4', 'oom': 'true'}]\n"
     ]
    }
   ],
   "source": [
    "print(scaling_stats)"
   ]
  },
  {
   "cell_type": "code",
   "execution_count": 44,
   "id": "f7f34de2-5ff1-46e7-b415-92d3d5b8c1e3",
   "metadata": {
    "tags": []
   },
   "outputs": [],
   "source": [
    "# Extract all unique keys from the dictionaries in the list\n",
    "all_keys = set().union(*(d.keys() for d in scaling_stats))\n",
    "\n",
    "# Write data to TSV file\n",
    "with open('scaling_stats.tsv', \"w\", newline=\"\", encoding=\"utf-8\") as tsv_file:\n",
    "    writer = csv.DictWriter(tsv_file, fieldnames=all_keys, delimiter=\"\\t\")\n",
    "    writer.writeheader()\n",
    "    writer.writerows(scaling_stats)"
   ]
  },
  {
   "cell_type": "code",
   "execution_count": null,
   "id": "e1141bd4-2040-477f-aec0-a7252ab6433f",
   "metadata": {},
   "outputs": [],
   "source": []
  }
 ],
 "metadata": {
  "kernelspec": {
   "display_name": "porque",
   "language": "python",
   "name": "porque"
  },
  "language_info": {
   "codemirror_mode": {
    "name": "ipython",
    "version": 3
   },
   "file_extension": ".py",
   "mimetype": "text/x-python",
   "name": "python",
   "nbconvert_exporter": "python",
   "pygments_lexer": "ipython3",
   "version": "3.9.16"
  }
 },
 "nbformat": 4,
 "nbformat_minor": 5
}
