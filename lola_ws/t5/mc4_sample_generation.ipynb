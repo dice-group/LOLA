{
 "cells": [
  {
   "cell_type": "code",
   "execution_count": null,
   "id": "bc2be7df-bd97-43c2-a83e-366853f2ec2a",
   "metadata": {},
   "outputs": [],
   "source": [
    "# Utility to generate a MC4 sample for LOLA pretraining\n",
    "# Please note: We have modified the python code in bertin-project/mc4-sampling locally for it to work\n",
    "# More info: https://huggingface.co/datasets/bertin-project/mc4-sampling/discussions/6"
   ]
  },
  {
   "cell_type": "code",
   "execution_count": 1,
   "id": "66a57751-3524-428c-9193-812f607d6c96",
   "metadata": {
    "tags": []
   },
   "outputs": [],
   "source": [
    "from datasets import load_dataset\n",
    "from datasets import concatenate_datasets\n",
    "from datasets import Dataset\n",
    "import pandas as pd"
   ]
  },
  {
   "cell_type": "code",
   "execution_count": 2,
   "id": "87985957-f7c9-4f47-850a-c6ddbe035b51",
   "metadata": {
    "tags": []
   },
   "outputs": [],
   "source": [
    "langs = [\"en\",\"de\",\"es\",\"fr\",\"hi\",\"zh\", \"ja\", \"pt\",\"ar\"]\n",
    "limit = 1000"
   ]
  },
  {
   "cell_type": "code",
   "execution_count": 3,
   "id": "5ea772f5-1992-4248-b897-63d423d85c97",
   "metadata": {
    "tags": []
   },
   "outputs": [],
   "source": [
    "def mc4_iterable(lang):\n",
    "\n",
    "    return load_dataset(\n",
    "        \"bertin-project/mc4-sampling\", languages=[lang],\n",
    "        split=\"train\",\n",
    "        streaming=True,\n",
    "        sampling_method=\"random\",\n",
    "        factor=0.5,\n",
    "    )"
   ]
  },
  {
   "cell_type": "code",
   "execution_count": 4,
   "id": "6977a47f-7fc2-4f9c-80a9-e2742f9f7594",
   "metadata": {
    "tags": []
   },
   "outputs": [
    {
     "name": "stderr",
     "output_type": "stream",
     "text": [
      "/upb/users/n/nikit/profiles/unix/cs/.conda/envs/porque/lib/python3.9/site-packages/datasets/builder.py:298: FutureWarning: Parameter 'name' was renamed to 'config_name' in version 2.3.0 and will be removed in 3.0.0.\n",
      "  warnings.warn(\n",
      "Using custom data configuration en-79e0bc0169e55b1c\n",
      "/upb/users/n/nikit/profiles/unix/cs/.conda/envs/porque/lib/python3.9/site-packages/datasets/builder.py:298: FutureWarning: Parameter 'name' was renamed to 'config_name' in version 2.3.0 and will be removed in 3.0.0.\n",
      "  warnings.warn(\n",
      "Using custom data configuration de-1fb154a3909da91f\n",
      "/upb/users/n/nikit/profiles/unix/cs/.conda/envs/porque/lib/python3.9/site-packages/datasets/builder.py:298: FutureWarning: Parameter 'name' was renamed to 'config_name' in version 2.3.0 and will be removed in 3.0.0.\n",
      "  warnings.warn(\n",
      "Using custom data configuration es-eae19eee0d429e0a\n",
      "/upb/users/n/nikit/profiles/unix/cs/.conda/envs/porque/lib/python3.9/site-packages/datasets/builder.py:298: FutureWarning: Parameter 'name' was renamed to 'config_name' in version 2.3.0 and will be removed in 3.0.0.\n",
      "  warnings.warn(\n",
      "Using custom data configuration fr-47af9cfd30e8860f\n",
      "/upb/users/n/nikit/profiles/unix/cs/.conda/envs/porque/lib/python3.9/site-packages/datasets/builder.py:298: FutureWarning: Parameter 'name' was renamed to 'config_name' in version 2.3.0 and will be removed in 3.0.0.\n",
      "  warnings.warn(\n",
      "Using custom data configuration hi-a10917df07a26584\n",
      "/upb/users/n/nikit/profiles/unix/cs/.conda/envs/porque/lib/python3.9/site-packages/datasets/builder.py:298: FutureWarning: Parameter 'name' was renamed to 'config_name' in version 2.3.0 and will be removed in 3.0.0.\n",
      "  warnings.warn(\n",
      "Using custom data configuration zh-7dea553523769ca1\n",
      "/upb/users/n/nikit/profiles/unix/cs/.conda/envs/porque/lib/python3.9/site-packages/datasets/builder.py:298: FutureWarning: Parameter 'name' was renamed to 'config_name' in version 2.3.0 and will be removed in 3.0.0.\n",
      "  warnings.warn(\n",
      "Using custom data configuration ja-a6f76c6b8bacee03\n",
      "/upb/users/n/nikit/profiles/unix/cs/.conda/envs/porque/lib/python3.9/site-packages/datasets/builder.py:298: FutureWarning: Parameter 'name' was renamed to 'config_name' in version 2.3.0 and will be removed in 3.0.0.\n",
      "  warnings.warn(\n",
      "Using custom data configuration pt-0e885a723d639642\n",
      "/upb/users/n/nikit/profiles/unix/cs/.conda/envs/porque/lib/python3.9/site-packages/datasets/builder.py:298: FutureWarning: Parameter 'name' was renamed to 'config_name' in version 2.3.0 and will be removed in 3.0.0.\n",
      "  warnings.warn(\n",
      "Using custom data configuration ar-38ede76e322d033d\n"
     ]
    },
    {
     "name": "stdout",
     "output_type": "stream",
     "text": [
      "Dataset({\n",
      "    features: ['text', 'timestamp', 'url'],\n",
      "    num_rows: 9000\n",
      "})\n"
     ]
    }
   ],
   "source": [
    "lang_ds_arr = []\n",
    "\n",
    "for lang in langs:\n",
    "    lang_ds = mc4_iterable(lang)\n",
    "    data_list = list(lang_ds.take(limit))\n",
    "    lang_ds = Dataset.from_pandas(pd.DataFrame(data=data_list))\n",
    "    lang_ds_arr.append(lang_ds)\n",
    "\n",
    "final_ds = concatenate_datasets(lang_ds_arr).shuffle()\n",
    "print(final_ds)"
   ]
  },
  {
   "cell_type": "code",
   "execution_count": 5,
   "id": "aff5242b-9f2f-4adf-87ff-5a43fcfcaac1",
   "metadata": {
    "tags": []
   },
   "outputs": [
    {
     "data": {
      "text/plain": [
       "Dataset({\n",
       "    features: ['text', 'timestamp', 'url'],\n",
       "    num_rows: 9000\n",
       "})"
      ]
     },
     "execution_count": 5,
     "metadata": {},
     "output_type": "execute_result"
    }
   ],
   "source": [
    "final_ds"
   ]
  },
  {
   "cell_type": "code",
   "execution_count": 6,
   "id": "fc898033-358f-48fd-8db8-297e88812a76",
   "metadata": {
    "tags": []
   },
   "outputs": [
    {
     "data": {
      "application/vnd.jupyter.widget-view+json": {
       "model_id": "1002a59282eb453cb393095aef446312",
       "version_major": 2,
       "version_minor": 0
      },
      "text/plain": [
       "Creating json from Arrow format:   0%|          | 0/9 [00:00<?, ?ba/s]"
      ]
     },
     "metadata": {},
     "output_type": "display_data"
    },
    {
     "data": {
      "text/plain": [
       "44017156"
      ]
     },
     "execution_count": 6,
     "metadata": {},
     "output_type": "execute_result"
    }
   ],
   "source": [
    "final_ds.to_json(f\"mc4-sample-9k.jsonl\", orient=\"records\", lines=True, force_ascii=False)"
   ]
  },
  {
   "cell_type": "code",
   "execution_count": null,
   "id": "ac15812a-72d8-4b35-a6ad-0a4fec1b9427",
   "metadata": {},
   "outputs": [],
   "source": []
  }
 ],
 "metadata": {
  "kernelspec": {
   "display_name": "porque",
   "language": "python",
   "name": "porque"
  },
  "language_info": {
   "codemirror_mode": {
    "name": "ipython",
    "version": 3
   },
   "file_extension": ".py",
   "mimetype": "text/x-python",
   "name": "python",
   "nbconvert_exporter": "python",
   "pygments_lexer": "ipython3",
   "version": "3.9.16"
  }
 },
 "nbformat": 4,
 "nbformat_minor": 5
}
