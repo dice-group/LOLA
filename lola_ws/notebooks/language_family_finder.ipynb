{
 "cells": [
  {
   "cell_type": "code",
   "execution_count": null,
   "id": "6eb758bd-6e27-431c-b643-6e70e8e4a385",
   "metadata": {},
   "outputs": [],
   "source": [
    "from SPARQLWrapper import SPARQLWrapper, JSON"
   ]
  },
  {
   "cell_type": "code",
   "execution_count": null,
   "id": "95275474-03ad-4596-af0a-da5a6796d830",
   "metadata": {},
   "outputs": [],
   "source": [
    "# Write a TreeNode class\n",
    "class TreeNode :\n",
    "    def __init__(self, uri, label, child):\n",
    "        self.uri = uri\n",
    "        self.label = label\n",
    "        self.child = child"
   ]
  },
  {
   "cell_type": "code",
   "execution_count": null,
   "id": "af547215-4f65-49e0-8f56-77da0b2d5dd4",
   "metadata": {},
   "outputs": [],
   "source": [
    "## Download this: https://files.dice-research.org/projects/LOLA/misc/glottolog_language.ttl.gz (backup of: https://glottolog.org/meta/downloads version 5.0)\n",
    "## Set it up in a virtuoso instance under the following graph name: http://upb.de/dice/lola/language\n",
    "## To start the virtuoso server (edit the ini file beforehand for DirsAllowed and ports): ./virtuoso-t +configfile ../database/virtuoso.ini +f\n",
    "## Make use of ld_dir(), rdf_loader_run() and checkpoint;\n",
    "\n",
    "# sparql_obj = SPARQLWrapper(endpoint=\"http://porque.cs.upb.de:18890/sparql\", defaultGraph=\"http://upb.de/dice/lola/language\")\n",
    "sparql_obj = SPARQLWrapper(endpoint=\"http://lola.cs.upb.de:18890/sparql\", defaultGraph=\"http://upb.de/dice/lola/language\")"
   ]
  },
  {
   "cell_type": "code",
   "execution_count": null,
   "id": "82202f72-2372-4565-9abe-c6582d6001e8",
   "metadata": {},
   "outputs": [],
   "source": [
    "# Find all top nodes through SPARQL\n",
    "top_node_sparql = '''\n",
    "SELECT DISTINCT ?node ?nodelbl WHERE { \n",
    "  ?node a <http://purl.org/linguistics/gold/LanguageFamily>. \n",
    "  ?node rdfs:label ?nodelbl.\n",
    "}\n",
    "'''"
   ]
  },
  {
   "cell_type": "code",
   "execution_count": null,
   "id": "0fcb4786-5a3d-421c-8b7f-b31732dae55b",
   "metadata": {},
   "outputs": [],
   "source": [
    "# Fetching all top-level language families\n",
    "lang_trees = []\n",
    "\n",
    "sparql_obj.setQuery(top_node_sparql)\n",
    "sparql_obj.setReturnFormat(JSON)\n",
    "results = sparql_obj.query().convert()\n",
    "print('Results fetched: ',len(results[\"results\"][\"bindings\"]))\n",
    "for result in results[\"results\"][\"bindings\"]:\n",
    "    uri = result[\"node\"][\"value\"]\n",
    "    label = result[\"nodelbl\"][\"value\"]\n",
    "    lang_trees.append(TreeNode(uri, label, []))"
   ]
  },
  {
   "cell_type": "code",
   "execution_count": null,
   "id": "2929f999-cf04-487d-8b91-9b34e000995d",
   "metadata": {},
   "outputs": [],
   "source": [
    "# Starting at each language family, perform a depth first search and form the tree\n",
    "child_node_sparql = '''\n",
    "SELECT DISTINCT ?node ?nodelbl WHERE {<%s> <http://www.w3.org/2004/02/skos/core#narrower> ?node . ?node rdfs:label ?nodelbl.}\n",
    "'''"
   ]
  },
  {
   "cell_type": "code",
   "execution_count": null,
   "id": "1562707f-be23-410c-a8ec-44fe3e2699bf",
   "metadata": {},
   "outputs": [],
   "source": [
    "# recursive function to find child nodes\n",
    "def find_child_nodes(tree_node):\n",
    "    sparql_obj.setQuery(child_node_sparql % (tree_node.uri))\n",
    "    sparql_obj.setReturnFormat(JSON)\n",
    "    results = sparql_obj.query().convert()\n",
    "    # TODO: Implement proper DFS with loop detection\n",
    "    for result in results[\"results\"][\"bindings\"]:\n",
    "        uri = result[\"node\"][\"value\"]\n",
    "        label = result[\"nodelbl\"][\"value\"]\n",
    "        child_node = TreeNode(uri, label, [])\n",
    "        tree_node.child.append(child_node)\n",
    "        # Find the children of the child node\n",
    "        find_child_nodes(child_node)"
   ]
  },
  {
   "cell_type": "code",
   "execution_count": null,
   "id": "43d3f32e-ec27-422b-acf3-2f4c78e2f7f8",
   "metadata": {},
   "outputs": [],
   "source": [
    "for tree in lang_trees:\n",
    "    # If there exists a loop in the tree, then this function will run forever.\n",
    "    find_child_nodes(tree)"
   ]
  },
  {
   "cell_type": "code",
   "execution_count": null,
   "id": "ae902113-a914-4a95-ab41-16203ea6a21c",
   "metadata": {},
   "outputs": [],
   "source": [
    "# Print the one of the path from one of the trees:\n",
    "tree = lang_trees[34]\n",
    "path = tree.label\n",
    "while True:\n",
    "    if(len(tree.child) != 0):\n",
    "        tree = tree.child[0]\n",
    "        path+= ' -> ' + tree.label\n",
    "    else:\n",
    "        break\n"
   ]
  },
  {
   "cell_type": "code",
   "execution_count": null,
   "id": "9a27ea30-8b91-4fa2-bdab-215477f21f47",
   "metadata": {},
   "outputs": [],
   "source": [
    "print(path)"
   ]
  },
  {
   "cell_type": "code",
   "execution_count": null,
   "id": "80836e00-10aa-4011-8256-6cbd65317ae0",
   "metadata": {},
   "outputs": [],
   "source": [
    "# languages = ['English', 'Cebuano', 'German', 'Swedish', 'French', 'Dutch', 'Russian', 'Spanish', 'Italian', 'Egyptian Arabic', 'Polish', 'Japanese', 'Mandarin', 'Vietnamese', 'Waray', 'Arabic', 'Ukrainian', 'Portuguese', 'Persian', 'Catalan', 'Serbian', 'Indonesian', 'Korean', 'Bokmål', 'Finnish', 'Hungarian', 'Czech', 'Turkish', 'Chechen', 'Serbo-Croatian', 'Romanian', 'Southern Min', 'Tatar', 'Basque', 'Malay', 'Esperanto', 'Hebrew', 'Armenian', 'Bulgarian', 'Danish', 'South Azerbaijani', 'Slovak', 'Kazakh', 'Estonian', 'Minangkabau', 'Belarusian', 'Simple English', 'Croatian', 'Greek', 'Lithuanian', 'Galician', 'Azerbaijani', 'Slovene', 'Urdu', 'Nynorsk', 'Georgian', 'Hindi', 'Uzbek', 'Thai', 'Tamil', 'Latin', 'Welsh', 'Asturian', 'Macedonian', 'Cantonese', 'Bengali', 'Volapük', 'Latvian', 'Tajik', 'Afrikaans', 'Burmese']"
   ]
  },
  {
   "cell_type": "code",
   "execution_count": null,
   "id": "0a19f25c",
   "metadata": {},
   "outputs": [],
   "source": [
    "# languages = [\n",
    "#     \"Bengali\",\n",
    "#     \"German\",\n",
    "#     \"Estonian\",\n",
    "#     \"Finnish\",\n",
    "#     \"French\",\n",
    "#     \"Modern Hebrew\",\n",
    "#     \"Hindi\",\n",
    "#     \"Standard Indonesian\",\n",
    "#     \"Italian\",\n",
    "#     \"Japanese\",\n",
    "#     \"Korean\",\n",
    "#     \"Lithuanian\",\n",
    "#     \"Dutch\",\n",
    "#     \"Romanian\",\n",
    "#     \"Russian\",\n",
    "#     \"Thai\",\n",
    "#     \"Ukrainian\",\n",
    "#     \"Bulgarian\",\n",
    "#     \"Irish\",\n",
    "#     \"Malayalam\",\n",
    "#     \"Macedonian\",\n",
    "#     \"Norwegian Bokmål\",\n",
    "#     \"Nepali\",\n",
    "#     \"Sinhala\",\n",
    "#     \"Telugu\",\n",
    "#     \"Xhosa\"\n",
    "# ]"
   ]
  },
  {
   "cell_type": "code",
   "execution_count": null,
   "id": "8a3a38a8",
   "metadata": {},
   "outputs": [],
   "source": [
    "languages = [\n",
    "    \"English\", \"Russian\", \"Spanish\", \"German\", \"French\", \"Chinese\", \"Italian\", \"Portuguese\", \n",
    "    \"Polish\", \"Dutch\", \"Japanese\", \"Vietnamese\", \"Turkish\", \"Arabic\", \"Czech\", \"Persian\", \n",
    "    \"Greek\", \"Swedish\", \"Ukrainian\", \"Hungarian\", \"Romanian\", \"Finnish\", \"Danish\", \n",
    "    \"Bulgarian\", \"Indonesian\", \"Thai\", \"Korean\", \"Hindi\", \"Norwegian\", \"Slovak\", \n",
    "    \"Catalan\", \"Lithuanian\", \"Bangla\", \"Estonian\", \"Slovenian\", \"Latvian\", \"Albanian\", \n",
    "    \"Azerbaijani\", \"Tamil\", \"Hebrew\", \"Serbian\", \"Nepali\", \"Georgian\", \"Armenian\", \n",
    "    \"Macedonian\", \"Urdu\", \"Kazakh\", \"Malayalam\", \"Icelandic\", \"Marathi\", \"Mongolian\", \n",
    "    \"Telugu\", \"Galician\", \"Belarusian\", \"Basque\", \"Kannada\", \"Gujarati\", \"Khmer\", \n",
    "    \"Burmese\", \"Afrikaans\", \"Sinhala\", \"Punjabi\", \"Kyrgyz\", \"Welsh\", \"Tajik\", \n",
    "    \"Croatian\", \"Esperanto\", \"Pashto\", \"Filipino\", \"Irish\", \"Kurdish\", \"Cebuano\", \n",
    "    \"Amharic\", \"Malay\", \"Western Frisian\", \"Tatar\", \"Lao\", \"Central Kurdish\", \n",
    "    \"Luxembourgish\", \"Odia\", \"Maltese\", \"Yiddish\", \"Norwegian Nynorsk\", \"Malagasy\", \n",
    "    \"Sindhi\", \"Uzbek\", \"Bashkir\", \"Egyptian Arabic\", \"Divehi\", \"Swahili\", \"Tibetan\", \n",
    "    \"Assamese\", \"Latin\", \"Uyghur\", \"Serbian (Latin)\", \"Breton\", \"South Azerbaijani\", \n",
    "    \"Waray\", \"Chuvash\", \"Sakha\", \"Chechen\", \"Sanskrit\", \"Western Panjabi\", \n",
    "    \"Low German\", \"Turkmen\", \"Occitan\", \"Mingrelian\", \"Asturian\", \"Ossetic\", \n",
    "    \"Scottish Gaelic\", \"Eastern Mari\", \"Piedmontese\", \"Swiss German\", \"Volapük\", \n",
    "    \"Bishnupriya\", \"Newari\", \"Upper Sorbian\", \"Lombard\", \"Aragonese\", \"Iloko\", \n",
    "    \"Javanese\", \"Mazanderani\", \"Lezghian\", \"Karachay-Balkar\", \"Sundanese\", \n",
    "    \"Minangkabau\", \"Komi\", \"Walloon\", \"Lojban\", \"Bosnian\", \"Quechua\", \"Ido\", \n",
    "    \"Western Mari\", \"Goan Konkani\", \"Interlingua\", \"Avaric\", \"Bihari languages\", \n",
    "    \"Wu Chinese\", \"Limburgish\", \"Yoruba\", \"Nahuatl languages\", \"Venetian\", \n",
    "    \"Guarani\", \"Russia Buriat\", \"Cornish\", \"Maithili\", \"Emiliano-Romagnol\", \n",
    "    \"Lower Sorbian\", \"Kalmyk\", \"Northern Luri\", \"Somali\", \"Neapolitan\", \n",
    "    \"Romansh\", \"Tuvinian\", \"Sicilian\", \"Haitian Creole\", \"Northern Frisian\", \n",
    "    \"Mirandese\", \"Erzya\", \"Interlingue\", \"Pampanga\", \"Bavarian\", \"Yue Chinese\", \n",
    "    \"Chavacano\", \"Central Bikol\", \"West Flemish\", \"Rusyn\"\n",
    "]\n",
    "\n"
   ]
  },
  {
   "cell_type": "code",
   "execution_count": null,
   "id": "95eac29a-96a5-4c13-bf99-cd0425274a6e",
   "metadata": {},
   "outputs": [],
   "source": [
    "path_map = {}\n",
    "\n",
    "# recursive function to find language path\n",
    "def find_language_path(treenode, path, lang):\n",
    "    if len(treenode.child) == 0:\n",
    "        return None\n",
    "    for child in treenode.child:\n",
    "        temppath = path + ', ' + child.label\n",
    "        if child.label.casefold() == lang:\n",
    "            return temppath\n",
    "        else:\n",
    "            res = find_language_path(child, temppath, lang)\n",
    "            if not res:\n",
    "                continue\n",
    "            else:\n",
    "                return res\n",
    "    return None\n",
    "# find path map for each language in all trees\n",
    "for lang in languages:\n",
    "    lang_path = None\n",
    "    for tree in lang_trees:\n",
    "        lang_path = find_language_path(tree, tree.label, lang.casefold())\n",
    "        if lang_path:\n",
    "            path_map[lang] = lang_path\n",
    "            print(lang_path)\n",
    "            break\n",
    "    if not lang_path :\n",
    "        print('>> Needs manual searching')"
   ]
  },
  {
   "cell_type": "code",
   "execution_count": null,
   "id": "49ca6d1e-365f-4387-8da9-ee0b354e7075",
   "metadata": {},
   "outputs": [],
   "source": []
  }
 ],
 "metadata": {
  "kernelspec": {
   "display_name": "Python 3",
   "language": "python",
   "name": "python3"
  },
  "language_info": {
   "codemirror_mode": {
    "name": "ipython",
    "version": 3
   },
   "file_extension": ".py",
   "mimetype": "text/x-python",
   "name": "python",
   "nbconvert_exporter": "python",
   "pygments_lexer": "ipython3",
   "version": "3.10.14"
  }
 },
 "nbformat": 4,
 "nbformat_minor": 5
}
