{
 "cells": [
  {
   "cell_type": "code",
   "execution_count": null,
   "id": "c46fe4a6-f5d1-40bd-8fbe-6015e38974af",
   "metadata": {
    "tags": []
   },
   "outputs": [],
   "source": [
    "#from datasets import load_dataset"
   ]
  },
  {
   "cell_type": "code",
   "execution_count": null,
   "id": "e94c3934-226d-4f25-976d-4c03a9260048",
   "metadata": {
    "tags": []
   },
   "outputs": [],
   "source": [
    "#ds = load_dataset(\"uonlp/CulturaX\",\n",
    "#                  language=\"en\",\n",
    "#                  token=True, cache_dir='/scratch/hpc-prf-lola/data/culturaX')"
   ]
  },
  {
   "cell_type": "code",
   "execution_count": null,
   "id": "d750c897-760b-4f31-9162-72d53f6023eb",
   "metadata": {
    "tags": []
   },
   "outputs": [],
   "source": [
    "#from huggingface_hub import snapshot_download"
   ]
  },
  {
   "cell_type": "code",
   "execution_count": null,
   "id": "14ec1369-2bde-4281-9bf3-850b47bfaa68",
   "metadata": {},
   "outputs": [],
   "source": [
    "#snapshot_download(repo_id=\"uonlp/CulturaX\", repo_type=\"dataset\", local_dir_use_symlinks=False, local_dir=\"/scratch/hpc-prf-lola/data/culturaX\")"
   ]
  },
  {
   "cell_type": "code",
   "execution_count": null,
   "id": "2702bfcd-dbbb-40ef-aceb-2d909a7c6584",
   "metadata": {},
   "outputs": [],
   "source": [
    "# Testing the partition of data"
   ]
  },
  {
   "cell_type": "code",
   "execution_count": null,
   "id": "3b746cf9-7b28-4b8e-a8a4-6684ba7d1e5f",
   "metadata": {
    "tags": []
   },
   "outputs": [],
   "source": [
    "from datasets import load_dataset"
   ]
  },
  {
   "cell_type": "code",
   "execution_count": null,
   "id": "a8cea16b-0c74-4057-a2e0-54f513a6f65a",
   "metadata": {
    "tags": []
   },
   "outputs": [],
   "source": [
    "ds1 = load_dataset(\"jayantdocplix/falcon-small-test-dataset\", split='train[0%:15%]')\n",
    "ds2 = load_dataset(\"jayantdocplix/falcon-small-test-dataset\", split='train[15%:25%]')\n",
    "ds3 = load_dataset(\"jayantdocplix/falcon-small-test-dataset\", split='train[0%:25%]')"
   ]
  },
  {
   "cell_type": "code",
   "execution_count": null,
   "id": "6727478d-1b0c-4b15-8e35-2b9df1682ee7",
   "metadata": {
    "tags": []
   },
   "outputs": [],
   "source": [
    "ds1"
   ]
  },
  {
   "cell_type": "code",
   "execution_count": null,
   "id": "45a26083-ca56-439a-84c5-97bbdadae4d4",
   "metadata": {
    "tags": []
   },
   "outputs": [],
   "source": [
    "ds2"
   ]
  },
  {
   "cell_type": "code",
   "execution_count": null,
   "id": "07e4e7f0-af79-4067-94ef-d9828d316535",
   "metadata": {
    "tags": []
   },
   "outputs": [],
   "source": [
    "ds3"
   ]
  },
  {
   "cell_type": "code",
   "execution_count": null,
   "id": "6ddf3975-2cee-4663-a712-8d7e745587f2",
   "metadata": {
    "tags": []
   },
   "outputs": [],
   "source": [
    "ds1[-1]"
   ]
  },
  {
   "cell_type": "code",
   "execution_count": null,
   "id": "8dda95ff-205a-47d0-911c-aea7212c545d",
   "metadata": {
    "tags": []
   },
   "outputs": [],
   "source": [
    "ds2[0]"
   ]
  },
  {
   "cell_type": "code",
   "execution_count": null,
   "id": "445a9a7b-4405-4dbf-89a2-4a2d44b52429",
   "metadata": {
    "tags": []
   },
   "outputs": [],
   "source": [
    "ds3[13994]"
   ]
  },
  {
   "cell_type": "code",
   "execution_count": null,
   "id": "e9226c6a-1edb-4d61-abe9-1bd06984c657",
   "metadata": {},
   "outputs": [],
   "source": []
  },
  {
   "cell_type": "code",
   "execution_count": null,
   "id": "b7af9a9b-65fe-41e2-929c-6672fe39a5f0",
   "metadata": {},
   "outputs": [],
   "source": []
  },
  {
   "cell_type": "code",
   "execution_count": null,
   "id": "5eb1b5bd-60b3-4341-a032-32f12641bdc1",
   "metadata": {
    "tags": []
   },
   "outputs": [],
   "source": [
    "from datasets import load_dataset\n",
    "ds1 = load_dataset(\"uonlp/CulturaX\", language=\"en\", split='train[0%:1%]')"
   ]
  },
  {
   "cell_type": "code",
   "execution_count": null,
   "id": "30af4be2-6e26-4a79-8ecf-268116682566",
   "metadata": {},
   "outputs": [],
   "source": [
    "ds1"
   ]
  },
  {
   "cell_type": "code",
   "execution_count": null,
   "id": "55bf5fbf-920d-4b06-84ed-441e69bd7ee7",
   "metadata": {
    "tags": []
   },
   "outputs": [],
   "source": [
    "ds1[32410656]"
   ]
  },
  {
   "cell_type": "code",
   "execution_count": null,
   "id": "39b2bec6-8d86-48c5-b180-e072da1c534f",
   "metadata": {},
   "outputs": [],
   "source": []
  },
  {
   "cell_type": "code",
   "execution_count": null,
   "id": "fd3e6f38-8b83-403c-8a17-d5525ca6adca",
   "metadata": {},
   "outputs": [],
   "source": []
  },
  {
   "cell_type": "code",
   "execution_count": null,
   "id": "f6132974-56d1-4ff1-a418-4c80c7aaba62",
   "metadata": {
    "tags": []
   },
   "outputs": [],
   "source": [
    "import os\n",
    "import glob\n",
    "lang_dir = '/scratch/hpc-prf-lola/nikit/.cache/huggingface/datasets--uonlp--CulturaX/snapshots/321a983f3fd2a929cc1f8ef6207834bab0bb9e25'\n",
    "\n",
    "languages = [f for f in os.listdir(lang_dir) if os.path.isdir(os.path.join(lang_dir, f))]\n",
    "print(languages)"
   ]
  },
  {
   "cell_type": "code",
   "execution_count": null,
   "id": "fc1078ca-3c82-49f6-a18f-e9b18a57bd8e",
   "metadata": {
    "scrolled": true,
    "tags": []
   },
   "outputs": [],
   "source": [
    "from datasets import load_dataset\n",
    "languages = ['de']\n",
    "for lang in languages:\n",
    "    load_dataset(\"uonlp/CulturaX\", language=lang, split='train')"
   ]
  },
  {
   "cell_type": "code",
   "execution_count": null,
   "id": "b839e424-8435-4454-b052-0ae5d1fe75d0",
   "metadata": {
    "tags": []
   },
   "outputs": [],
   "source": [
    "import os\n",
    "language = \"de\"\n",
    "lang_dir = '/scratch/hpc-prf-lola/nikit/.cache/huggingface/datasets--uonlp--CulturaX/snapshots/321a983f3fd2a929cc1f8ef6207834bab0bb9e25/'+language\n",
    "lang_parquet_files = [lang_dir + '/' + f for f in os.listdir(lang_dir) if f.endswith(\".parquet\")]"
   ]
  },
  {
   "cell_type": "code",
   "execution_count": null,
   "id": "fdb59710-011a-4443-ad4b-a9631c93b503",
   "metadata": {
    "tags": []
   },
   "outputs": [],
   "source": [
    "lang_parquet_files"
   ]
  },
  {
   "cell_type": "code",
   "execution_count": null,
   "id": "2aa8be6d-a420-46ec-85c2-2ea5a2ec0b50",
   "metadata": {},
   "outputs": [],
   "source": [
    "from datasets import load_dataset,Features,Value\n",
    "\n",
    "context_feat = Features({'text': Value(dtype='string')})\n",
    "\n",
    "dataset = load_dataset('parquet', features=context_feat, data_files={'train': lang_parquet_files})\n"
   ]
  },
  {
   "cell_type": "code",
   "execution_count": null,
   "id": "234122c7-1244-4471-840d-0cb4e8cb4548",
   "metadata": {},
   "outputs": [],
   "source": []
  },
  {
   "cell_type": "code",
   "execution_count": null,
   "id": "cacda93e-3454-48f0-b0c3-770dc7a6ff6e",
   "metadata": {},
   "outputs": [],
   "source": [
    "from datasets import load_dataset\n",
    "import datasets"
   ]
  },
  {
   "cell_type": "code",
   "execution_count": null,
   "id": "cd71027d-db58-4cfa-bec9-703f7f7a6d53",
   "metadata": {
    "tags": []
   },
   "outputs": [],
   "source": [
    "dataset = load_dataset('/scratch/hpc-prf-lola/data/raw_datasets/CulturaX', 'pa', split=\"train\")"
   ]
  },
  {
   "cell_type": "code",
   "execution_count": null,
   "id": "bff720e6-64bf-4927-8c29-128b04b3d0b7",
   "metadata": {
    "tags": []
   },
   "outputs": [],
   "source": [
    "dataset"
   ]
  },
  {
   "cell_type": "code",
   "execution_count": null,
   "id": "1928155b-a4d3-43a4-85b3-711787d70288",
   "metadata": {
    "tags": []
   },
   "outputs": [],
   "source": [
    "datasets.config.DEFAULT_MAX_BATCH_SIZE"
   ]
  },
  {
   "cell_type": "code",
   "execution_count": null,
   "id": "3f37f489-1cdd-4bb8-a53c-68780e9e29e1",
   "metadata": {},
   "outputs": [],
   "source": [
    "dataset.to_json(f\"pa.jsonl\", batch_size=5000, num_proc=32, orient=\"records\", lines=True, force_ascii=False)"
   ]
  },
  {
   "cell_type": "code",
   "execution_count": null,
   "id": "d63e3f69-7987-47d2-9c04-359e30aaa7e9",
   "metadata": {},
   "outputs": [],
   "source": [
    "# Tokenization training"
   ]
  },
  {
   "cell_type": "code",
   "execution_count": null,
   "id": "cc7639b5-e3ca-425a-ab44-a961c57a51e4",
   "metadata": {
    "tags": []
   },
   "outputs": [],
   "source": [
    "from datasets import load_dataset\n",
    "dataset = load_dataset('json', data_files=['/scratch/hpc-prf-lola/data/culturaX/jsonl/af_0-33059_ind.jsonl', '/scratch/hpc-prf-lola/data/culturaX/jsonl/als_0-6935_ind.jsonl'], num_proc=128, keep_in_memory=True)"
   ]
  },
  {
   "cell_type": "code",
   "execution_count": null,
   "id": "8f0832b1-f058-4213-9187-2c27f3f9b02d",
   "metadata": {
    "tags": []
   },
   "outputs": [],
   "source": [
    "iterable_dataset = dataset['train'].to_iterable_dataset(num_shards=128)"
   ]
  },
  {
   "cell_type": "code",
   "execution_count": null,
   "id": "9f9dd37e-739e-4ed2-8ead-dced0e1868c3",
   "metadata": {
    "tags": []
   },
   "outputs": [],
   "source": [
    "shuffled_iterable_dataset = iterable_dataset.shuffle(seed=42, buffer_size=10000)"
   ]
  },
  {
   "cell_type": "code",
   "execution_count": null,
   "id": "a77bc0a4-b96d-4202-af38-722732afbf24",
   "metadata": {
    "tags": []
   },
   "outputs": [],
   "source": [
    "shuffled_iterable_dataset"
   ]
  },
  {
   "cell_type": "code",
   "execution_count": null,
   "id": "9144e12e-6c52-4a7b-93c3-2cd8757fbf1c",
   "metadata": {
    "tags": []
   },
   "outputs": [],
   "source": [
    "for item in shuffled_iterable_dataset:\n",
    "    print(item)\n",
    "    break"
   ]
  },
  {
   "cell_type": "code",
   "execution_count": null,
   "id": "4644b36f-981a-4bf6-8cd9-cb8e04dda6cc",
   "metadata": {
    "tags": []
   },
   "outputs": [],
   "source": [
    "len(dataset['train'])"
   ]
  },
  {
   "cell_type": "code",
   "execution_count": null,
   "id": "e7ac14d5-f177-4072-a16b-db4f0df365b9",
   "metadata": {
    "tags": []
   },
   "outputs": [],
   "source": [
    "def dataset_iterator(dataset, text_field):\n",
    "    for example in dataset:\n",
    "        yield example[text_field]"
   ]
  },
  {
   "cell_type": "code",
   "execution_count": null,
   "id": "9d9a6a22-ae70-4607-90b7-936f3fb96325",
   "metadata": {
    "tags": []
   },
   "outputs": [],
   "source": [
    "from tokenizers import ByteLevelBPETokenizer\n",
    "tokenizer = ByteLevelBPETokenizer()\n",
    "tokenizer.train_from_iterator(dataset_iterator(shuffled_iterable_dataset, 'text'), length=len(dataset['train']), vocab_size=250000, special_tokens=[\"<pad>\", \"<eos>\", \"<unk>\", \"<s>\", \"</s>\"], show_progress=True)"
   ]
  },
  {
   "cell_type": "code",
   "execution_count": null,
   "id": "1c26f9e0-f0a1-46e8-aa88-c16a08320990",
   "metadata": {
    "tags": []
   },
   "outputs": [],
   "source": [
    "tokenizer"
   ]
  },
  {
   "cell_type": "code",
   "execution_count": null,
   "id": "2573e70b-59b3-4a49-9ff7-7acc977cf1b4",
   "metadata": {
    "tags": []
   },
   "outputs": [],
   "source": [
    "input_str = \"Dié skaapras help haar pa om meer geld uit sy Karakoelpelse te maak en terselfdertyd sy skape se vrugbaarheid te verhoog.\"\n",
    "encoding = tokenizer.encode(input_str)\n",
    "print(encoding)"
   ]
  },
  {
   "cell_type": "code",
   "execution_count": null,
   "id": "edc52efc-1388-432b-9417-c5c3a71d6fc5",
   "metadata": {},
   "outputs": [],
   "source": [
    "encoding.tokens"
   ]
  },
  {
   "cell_type": "code",
   "execution_count": null,
   "id": "5191c2e0-11df-4bad-a36e-55d0dec7be8a",
   "metadata": {
    "tags": []
   },
   "outputs": [],
   "source": [
    "decoded_str = tokenizer.decode(encoding.ids)\n",
    "print(decoded_str)\n",
    "print(decoded_str == input_str)"
   ]
  },
  {
   "cell_type": "code",
   "execution_count": null,
   "id": "39611cf6-af2b-47a3-bfd2-eb80c2846b3d",
   "metadata": {
    "tags": []
   },
   "outputs": [],
   "source": [
    "tokenizer.save_model('/scratch/hpc-prf-lola/data/culturaX/tokenizers/temp')"
   ]
  },
  {
   "cell_type": "code",
   "execution_count": null,
   "id": "ca725177-f6b3-43f0-afcc-3b7d3081f967",
   "metadata": {
    "tags": []
   },
   "outputs": [],
   "source": [
    "tokenizer.save('/scratch/hpc-prf-lola/data/culturaX/tokenizers/temp/custom.json')"
   ]
  },
  {
   "cell_type": "code",
   "execution_count": null,
   "id": "f7adea52-233c-46cd-9b65-edc2058aa774",
   "metadata": {},
   "outputs": [],
   "source": []
  }
 ],
 "metadata": {
  "kernelspec": {
   "display_name": "venv-lola",
   "language": "python",
   "name": "venv-lola"
  },
  "language_info": {
   "codemirror_mode": {
    "name": "ipython",
    "version": 3
   },
   "file_extension": ".py",
   "mimetype": "text/x-python",
   "name": "python",
   "nbconvert_exporter": "python",
   "pygments_lexer": "ipython3",
   "version": "3.10.4"
  }
 },
 "nbformat": 4,
 "nbformat_minor": 5
}
