{
 "cells": [
  {
   "cell_type": "code",
   "execution_count": null,
   "id": "bc2be7df-bd97-43c2-a83e-366853f2ec2a",
   "metadata": {},
   "outputs": [],
   "source": [
    "# Utility to generate a MC4 sample for LOLA pretraining\n",
    "# Please note: We have modified the python code in bertin-project/mc4-sampling locally for it to work\n",
    "# More info: https://huggingface.co/datasets/bertin-project/mc4-sampling/discussions/6"
   ]
  },
  {
   "cell_type": "code",
   "execution_count": 1,
   "id": "66a57751-3524-428c-9193-812f607d6c96",
   "metadata": {
    "tags": []
   },
   "outputs": [],
   "source": [
    "from datasets import load_dataset\n",
    "from datasets import concatenate_datasets\n",
    "from datasets import Dataset\n",
    "import pandas as pd"
   ]
  },
  {
   "cell_type": "code",
   "execution_count": 2,
   "id": "87985957-f7c9-4f47-850a-c6ddbe035b51",
   "metadata": {
    "tags": []
   },
   "outputs": [],
   "source": [
    "langs = [\"en\",\"de\",\"es\",\"fr\",\"hi\",\"zh\", \"ja\", \"pt\",\"ar\", \"ru\"]\n",
    "limit = 10000"
   ]
  },
  {
   "cell_type": "code",
   "execution_count": 3,
   "id": "5ea772f5-1992-4248-b897-63d423d85c97",
   "metadata": {
    "tags": []
   },
   "outputs": [],
   "source": [
    "def mc4_iterable(lang):\n",
    "\n",
    "    return load_dataset(\n",
    "        \"bertin-project/mc4-sampling\", languages=[lang],\n",
    "        split=\"train\",\n",
    "        streaming=True,\n",
    "        sampling_method=\"random\",\n",
    "        factor=0.5,\n",
    "    )"
   ]
  },
  {
   "cell_type": "code",
   "execution_count": null,
   "id": "6977a47f-7fc2-4f9c-80a9-e2742f9f7594",
   "metadata": {
    "tags": []
   },
   "outputs": [],
   "source": [
    "lang_ds_arr = []\n",
    "\n",
    "for lang in langs:\n",
    "    lang_ds = mc4_iterable(lang)\n",
    "    data_list = list(lang_ds.take(limit))\n",
    "    lang_ds = Dataset.from_pandas(pd.DataFrame(data=data_list))\n",
    "    lang_ds_arr.append(lang_ds)\n",
    "\n",
    "final_ds = concatenate_datasets(lang_ds_arr).shuffle()\n",
    "print(final_ds)"
   ]
  },
  {
   "cell_type": "code",
   "execution_count": null,
   "id": "aff5242b-9f2f-4adf-87ff-5a43fcfcaac1",
   "metadata": {
    "tags": []
   },
   "outputs": [],
   "source": [
    "final_ds"
   ]
  },
  {
   "cell_type": "code",
   "execution_count": null,
   "id": "fc898033-358f-48fd-8db8-297e88812a76",
   "metadata": {
    "tags": []
   },
   "outputs": [],
   "source": [
    "final_ds.to_json(f\"mc4-sample-100k.jsonl\", orient=\"records\", lines=True, force_ascii=False)"
   ]
  },
  {
   "cell_type": "code",
   "execution_count": null,
   "id": "ac15812a-72d8-4b35-a6ad-0a4fec1b9427",
   "metadata": {},
   "outputs": [],
   "source": []
  }
 ],
 "metadata": {
  "kernelspec": {
   "display_name": "porque",
   "language": "python",
   "name": "porque"
  },
  "language_info": {
   "codemirror_mode": {
    "name": "ipython",
    "version": 3
   },
   "file_extension": ".py",
   "mimetype": "text/x-python",
   "name": "python",
   "nbconvert_exporter": "python",
   "pygments_lexer": "ipython3",
   "version": "3.9.16"
  }
 },
 "nbformat": 4,
 "nbformat_minor": 5
}
