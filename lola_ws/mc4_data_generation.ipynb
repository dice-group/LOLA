{
 "cells": [
  {
   "cell_type": "code",
   "execution_count": null,
   "id": "bc2be7df-bd97-43c2-a83e-366853f2ec2a",
   "metadata": {},
   "outputs": [],
   "source": [
    "# Utility to generate a MC4 sample for LOLA pretraining\n",
    "# Please note: We have modified the python code in bertin-project/mc4-sampling locally for it to work\n",
    "# More info: https://huggingface.co/datasets/bertin-project/mc4-sampling/discussions/6"
   ]
  },
  {
   "cell_type": "code",
   "execution_count": 1,
   "id": "66a57751-3524-428c-9193-812f607d6c96",
   "metadata": {
    "tags": []
   },
   "outputs": [
    {
     "name": "stderr",
     "output_type": "stream",
     "text": [
      "/local/upb/users/n/nikit/profiles/unix/cs/repos/LOLA-Megatron-DeepSpeed/venv-lola/lib/python3.11/site-packages/tqdm/auto.py:21: TqdmWarning: IProgress not found. Please update jupyter and ipywidgets. See https://ipywidgets.readthedocs.io/en/stable/user_install.html\n",
      "  from .autonotebook import tqdm as notebook_tqdm\n"
     ]
    }
   ],
   "source": [
    "from datasets import load_dataset\n",
    "from datasets import concatenate_datasets\n",
    "from datasets import Dataset\n",
    "import pandas as pd\n",
    "from tqdm import tqdm\n",
    "# Uncomment to download the library files from huggingface\n",
    "# load_dataset(\n",
    "#         \"bertin-project/mc4-sampling\", languages=['en'],\n",
    "#         split=\"train\",\n",
    "#         streaming=True,\n",
    "#         sampling_method=\"random\",\n",
    "#         factor=0.5,\n",
    "#     )"
   ]
  },
  {
   "cell_type": "code",
   "execution_count": 2,
   "id": "87985957-f7c9-4f47-850a-c6ddbe035b51",
   "metadata": {
    "tags": []
   },
   "outputs": [],
   "source": [
    "langs = [\"en\",\"de\",\"es\",\"fr\",\"hi\",\"zh\", \"ja\", \"pt\",\"ar\", \"ru\"]\n",
    "limit = 450000 # To create a dataset of 4.5M entries in total"
   ]
  },
  {
   "cell_type": "code",
   "execution_count": 3,
   "id": "5ea772f5-1992-4248-b897-63d423d85c97",
   "metadata": {
    "tags": []
   },
   "outputs": [],
   "source": [
    "def mc4_iterable(lang):\n",
    "\n",
    "    return load_dataset(\n",
    "        \"bertin-project/mc4-sampling\", languages=[lang],\n",
    "        split=\"train\",\n",
    "        streaming=True,\n",
    "        sampling_method=\"random\",\n",
    "        factor=0.5,\n",
    "    )"
   ]
  },
  {
   "cell_type": "code",
   "execution_count": 4,
   "id": "6977a47f-7fc2-4f9c-80a9-e2742f9f7594",
   "metadata": {
    "tags": []
   },
   "outputs": [
    {
     "name": "stderr",
     "output_type": "stream",
     "text": [
      "  0%|          | 0/10 [00:00<?, ?it/s]/local/upb/users/n/nikit/profiles/unix/cs/repos/LOLA-Megatron-DeepSpeed/venv-lola/lib/python3.11/site-packages/datasets/builder.py:342: FutureWarning: Parameter 'name' was renamed to 'config_name' in version 2.3.0 and will be removed in 3.0.0.\n",
      "  warnings.warn(\n",
      " 10%|█         | 1/10 [02:06<19:01, 126.80s/it]/local/upb/users/n/nikit/profiles/unix/cs/repos/LOLA-Megatron-DeepSpeed/venv-lola/lib/python3.11/site-packages/datasets/builder.py:342: FutureWarning: Parameter 'name' was renamed to 'config_name' in version 2.3.0 and will be removed in 3.0.0.\n",
      "  warnings.warn(\n",
      " 60%|██████    | 6/10 [40:04<32:26, 486.52s/it]Got disconnected from remote data host. Retrying in 5sec [1/20]\n",
      "100%|██████████| 10/10 [1:25:02<00:00, 510.21s/it]\n"
     ]
    },
    {
     "name": "stdout",
     "output_type": "stream",
     "text": [
      "Dataset({\n",
      "    features: ['text', 'timestamp', 'url'],\n",
      "    num_rows: 4500000\n",
      "})\n"
     ]
    }
   ],
   "source": [
    "lang_ds_arr = []\n",
    "\n",
    "for lang in tqdm(langs):\n",
    "    lang_ds = mc4_iterable(lang)\n",
    "    data_list = list(lang_ds.take(limit))\n",
    "    lang_ds = Dataset.from_pandas(pd.DataFrame(data=data_list))\n",
    "    lang_ds_arr.append(lang_ds)\n",
    "\n",
    "final_ds = concatenate_datasets(lang_ds_arr).shuffle()\n",
    "print(final_ds)"
   ]
  },
  {
   "cell_type": "code",
   "execution_count": 5,
   "id": "aff5242b-9f2f-4adf-87ff-5a43fcfcaac1",
   "metadata": {
    "tags": []
   },
   "outputs": [
    {
     "data": {
      "text/plain": [
       "Dataset({\n",
       "    features: ['text', 'timestamp', 'url'],\n",
       "    num_rows: 4500000\n",
       "})"
      ]
     },
     "execution_count": 5,
     "metadata": {},
     "output_type": "execute_result"
    }
   ],
   "source": [
    "final_ds"
   ]
  },
  {
   "cell_type": "code",
   "execution_count": 6,
   "id": "fc898033-358f-48fd-8db8-297e88812a76",
   "metadata": {
    "tags": []
   },
   "outputs": [
    {
     "name": "stderr",
     "output_type": "stream",
     "text": [
      "Creating json from Arrow format: 100%|██████████| 4500/4500 [04:29<00:00, 16.69ba/s]\n"
     ]
    },
    {
     "data": {
      "text/plain": [
       "21731577196"
      ]
     },
     "execution_count": 6,
     "metadata": {},
     "output_type": "execute_result"
    }
   ],
   "source": [
    "final_ds.to_json(f\"mc4-sample-4pt5m.jsonl\", orient=\"records\", lines=True, force_ascii=False)"
   ]
  },
  {
   "cell_type": "markdown",
   "id": "ac15812a-72d8-4b35-a6ad-0a4fec1b9427",
   "metadata": {},
   "source": [
    "**Look into lola_ws/gpt/preprocess_data.sh for the next steps**"
   ]
  },
  {
   "cell_type": "markdown",
   "id": "979a6720",
   "metadata": {},
   "source": []
  }
 ],
 "metadata": {
  "kernelspec": {
   "display_name": "venv-lola",
   "language": "python",
   "name": "python3"
  },
  "language_info": {
   "codemirror_mode": {
    "name": "ipython",
    "version": 3
   },
   "file_extension": ".py",
   "mimetype": "text/x-python",
   "name": "python",
   "nbconvert_exporter": "python",
   "pygments_lexer": "ipython3",
   "version": "3.11.2"
  }
 },
 "nbformat": 4,
 "nbformat_minor": 5
}
